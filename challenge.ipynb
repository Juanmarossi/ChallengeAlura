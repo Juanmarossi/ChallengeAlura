{
  "nbformat": 4,
  "nbformat_minor": 0,
  "metadata": {
    "colab": {
      "provenance": [],
      "authorship_tag": "ABX9TyP84bss0jORzcDUdYj79S39",
      "include_colab_link": true
    },
    "kernelspec": {
      "name": "python3",
      "display_name": "Python 3"
    },
    "language_info": {
      "name": "python"
    }
  },
  "cells": [
    {
      "cell_type": "markdown",
      "metadata": {
        "id": "view-in-github",
        "colab_type": "text"
      },
      "source": [
        "<a href=\"https://colab.research.google.com/github/Juanmarossi/challengeAlura/blob/main/challenge.ipynb\" target=\"_parent\"><img src=\"https://colab.research.google.com/assets/colab-badge.svg\" alt=\"Open In Colab\"/></a>"
      ]
    },
    {
      "cell_type": "code",
      "source": [
        "from IPython.core.display import display, HTML\n",
        "\n",
        "codigo_html = \"\"\"\n",
        "<!DOCTYPE html>\n",
        "<html lang=\"es\">\n",
        "<head>\n",
        "    <meta charset=\"UTF-8\">\n",
        "    <meta name=\"viewport\" content=\"width=device-width, initial-scale=1.0\">\n",
        "    <title>Encriptador de Texto</title>\n",
        "    <style>\n",
        "        body {\n",
        "            font-family: Arial, sans-serif;\n",
        "            display: flex;\n",
        "            justify-content: center;\n",
        "            align-items: center;\n",
        "            height: 100vh;\n",
        "            background-color: #f0f0f0;\n",
        "            margin: 0;\n",
        "        }\n",
        "        .contenedor {\n",
        "            background: #fff;\n",
        "            padding: 20px;\n",
        "            border-radius: 8px;\n",
        "            box-shadow: 0 0 10px rgba(0, 0, 0, 0.1);\n",
        "        }\n",
        "        h1 {\n",
        "            margin-bottom: 20px;\n",
        "        }\n",
        "        textarea {\n",
        "            width: 100%;\n",
        "            height: 100px;\n",
        "            margin-bottom: 10px;\n",
        "            padding: 10px;\n",
        "            font-size: 16px;\n",
        "            border: 1px solid #ccc;\n",
        "            border-radius: 4px;\n",
        "        }\n",
        "        button {\n",
        "            padding: 10px 20px;\n",
        "            font-size: 16px;\n",
        "            color: #fff;\n",
        "            background: #007bff;\n",
        "            border: none;\n",
        "            border-radius: 4px;\n",
        "            cursor: pointer;\n",
        "        }\n",
        "        button:hover {\n",
        "            background: #0056b3;\n",
        "        }\n",
        "    </style>\n",
        "</head>\n",
        "<body>\n",
        "    <div class=\"contenedor\">\n",
        "        <h1>Encriptador de Texto</h1>\n",
        "        <textarea id=\"textoEntrada\" placeholder=\"Introduce el texto a encriptar...\"></textarea>\n",
        "        <textarea id=\"textoSalida\" placeholder=\"Texto encriptado...\" readonly></textarea>\n",
        "        <button onclick=\"encriptarTexto()\">Encriptar</button>\n",
        "    </div>\n",
        "    <script>\n",
        "        function encriptarTexto() {\n",
        "            const textoEntrada = document.getElementById('textoEntrada').value;\n",
        "            const desplazamiento = 3; // Desplazamiento del Cifrado César\n",
        "            let textoEncriptado = '';\n",
        "\n",
        "            for (let i = 0; i < textoEntrada.length; i++) {\n",
        "                let caracter = textoEntrada.charCodeAt(i);\n",
        "\n",
        "                if (caracter >= 65 && caracter <= 90) {\n",
        "                    // Letras mayúsculas\n",
        "                    textoEncriptado += String.fromCharCode((caracter - 65 + desplazamiento) % 26 + 65);\n",
        "                } else if (caracter >= 97 && caracter <= 122) {\n",
        "                    // Letras minúsculas\n",
        "                    textoEncriptado += String.fromCharCode((caracter - 97 + desplazamiento) % 26 + 97);\n",
        "                } else {\n",
        "                    // Caracteres no alfabéticos\n",
        "                    textoEncriptado += String.fromCharCode(caracter);\n",
        "                }\n",
        "            }\n",
        "\n",
        "            document.getElementById('textoSalida').value = textoEncriptado;\n",
        "        }\n",
        "    </script>\n",
        "</body>\n",
        "</html>\n",
        "\"\"\"\n",
        "\n",
        "display(HTML(codigo_html))\n"
      ],
      "metadata": {
        "colab": {
          "base_uri": "https://localhost:8080/",
          "height": 1000
        },
        "id": "deR4VmDo7K1t",
        "outputId": "40d0f61d-c4a5-4c19-d6ff-4209a1e93c30"
      },
      "execution_count": null,
      "outputs": [
        {
          "output_type": "display_data",
          "data": {
            "text/plain": [
              "<IPython.core.display.HTML object>"
            ],
            "text/html": [
              "\n",
              "<!DOCTYPE html>\n",
              "<html lang=\"es\">\n",
              "<head>\n",
              "    <meta charset=\"UTF-8\">\n",
              "    <meta name=\"viewport\" content=\"width=device-width, initial-scale=1.0\">\n",
              "    <title>Encriptador de Texto</title>\n",
              "    <style>\n",
              "        body {\n",
              "            font-family: Arial, sans-serif;\n",
              "            display: flex;\n",
              "            justify-content: center;\n",
              "            align-items: center;\n",
              "            height: 100vh;\n",
              "            background-color: #f0f0f0;\n",
              "            margin: 0;\n",
              "        }\n",
              "        .contenedor {\n",
              "            background: #fff;\n",
              "            padding: 20px;\n",
              "            border-radius: 8px;\n",
              "            box-shadow: 0 0 10px rgba(0, 0, 0, 0.1);\n",
              "        }\n",
              "        h1 {\n",
              "            margin-bottom: 20px;\n",
              "        }\n",
              "        textarea {\n",
              "            width: 100%;\n",
              "            height: 100px;\n",
              "            margin-bottom: 10px;\n",
              "            padding: 10px;\n",
              "            font-size: 16px;\n",
              "            border: 1px solid #ccc;\n",
              "            border-radius: 4px;\n",
              "        }\n",
              "        button {\n",
              "            padding: 10px 20px;\n",
              "            font-size: 16px;\n",
              "            color: #fff;\n",
              "            background: #007bff;\n",
              "            border: none;\n",
              "            border-radius: 4px;\n",
              "            cursor: pointer;\n",
              "        }\n",
              "        button:hover {\n",
              "            background: #0056b3;\n",
              "        }\n",
              "    </style>\n",
              "</head>\n",
              "<body>\n",
              "    <div class=\"contenedor\">\n",
              "        <h1>Encriptador de Texto</h1>\n",
              "        <textarea id=\"textoEntrada\" placeholder=\"Introduce el texto a encriptar...\"></textarea>\n",
              "        <textarea id=\"textoSalida\" placeholder=\"Texto encriptado...\" readonly></textarea>\n",
              "        <button onclick=\"encriptarTexto()\">Encriptar</button>\n",
              "    </div>\n",
              "    <script>\n",
              "        function encriptarTexto() {\n",
              "            const textoEntrada = document.getElementById('textoEntrada').value;\n",
              "            const desplazamiento = 3; // Desplazamiento del Cifrado César\n",
              "            let textoEncriptado = '';\n",
              "            \n",
              "            for (let i = 0; i < textoEntrada.length; i++) {\n",
              "                let caracter = textoEntrada.charCodeAt(i);\n",
              "                \n",
              "                if (caracter >= 65 && caracter <= 90) {\n",
              "                    // Letras mayúsculas\n",
              "                    textoEncriptado += String.fromCharCode((caracter - 65 + desplazamiento) % 26 + 65);\n",
              "                } else if (caracter >= 97 && caracter <= 122) {\n",
              "                    // Letras minúsculas\n",
              "                    textoEncriptado += String.fromCharCode((caracter - 97 + desplazamiento) % 26 + 97);\n",
              "                } else {\n",
              "                    // Caracteres no alfabéticos\n",
              "                    textoEncriptado += String.fromCharCode(caracter);\n",
              "                }\n",
              "            }\n",
              "            \n",
              "            document.getElementById('textoSalida').value = textoEncriptado;\n",
              "        }\n",
              "    </script>\n",
              "</body>\n",
              "</html>\n"
            ]
          },
          "metadata": {}
        }
      ]
    },
    {
      "cell_type": "code",
      "source": [],
      "metadata": {
        "id": "ZkaHUHp9BORR"
      },
      "execution_count": null,
      "outputs": []
    },
    {
      "cell_type": "code",
      "source": [],
      "metadata": {
        "id": "IhH0TzrOBOe_"
      },
      "execution_count": null,
      "outputs": []
    },
    {
      "cell_type": "code",
      "source": [],
      "metadata": {
        "id": "XfWLf2c7A6n6"
      },
      "execution_count": null,
      "outputs": []
    },
    {
      "cell_type": "code",
      "source": [],
      "metadata": {
        "id": "Ln7Py6q_A6_U"
      },
      "execution_count": null,
      "outputs": []
    },
    {
      "cell_type": "markdown",
      "source": [
        "Creación de una Interfaz Web para Encriptación de Texto:\n",
        "El código define y despliega una página web sencilla con HTML y CSS. Esta página contiene una interfaz de usuario con dos áreas de texto y un botón. El usuario puede ingresar texto en la primera área, que luego será encriptado y mostrado en la segunda área de texto.\n",
        "\n",
        "Aplicación de Cifrado César a Texto de Entrada:\n",
        "La función JavaScript encriptarTexto aplica un cifrado César, desplazando cada letra del texto de entrada por un número fijo de posiciones (en este caso, 3). El texto cifrado se genera recorriendo cada carácter del texto de entrada, ajustando los caracteres alfabéticos y dejando los caracteres no alfabéticos sin cambios.\n",
        "\n",
        "Integración y Ejecución en Google Colab:\n",
        "Utilizando el método display de IPython para renderizar la página web embebida, el código permite que la funcionalidad de encriptación se ejecute directamente dentro de un entorno de Google Colab. Esto facilita a los usuarios interactuar con la aplicación web sin necesidad de salir del entorno de Colab."
      ],
      "metadata": {
        "id": "VKBZ0SuH7aC8"
      }
    }
  ]
}